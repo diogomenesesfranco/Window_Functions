{
  "cells": [
    {
      "cell_type": "code",
      "execution_count": null,
      "metadata": {
        "id": "v4FgAnXGYx_f"
      },
      "outputs": [],
      "source": [
        "%%sh\n",
        "sudo pip install spark\n",
        "sudo pip install pyspark"
      ]
    },
    {
      "cell_type": "code",
      "execution_count": null,
      "metadata": {
        "id": "uMhu7M1GY11C"
      },
      "outputs": [],
      "source": [
        "#Instalar e importar as bibliotecas do spark e pyspark (as mesmas disponibilizadas nas aulas).\n",
        "import pandas as pd\n",
        "#Importando o spark e o pyspark\n",
        "import spark,pyspark,json\n",
        "#Importando as bibliotecas do pyspark.sql \n",
        "from pyspark.sql import *\n",
        "#Importando as funções sql do spark\n",
        "#documentação https://spark.apache.org/docs/latest/api/sql/index.html\n",
        "from pyspark.sql import functions as sf, Row\n",
        "#Importando os tipos de dados do spark\n",
        "#documentação https://spark.apache.org/docs/latest/sql-ref-datatypes.html\n",
        "from pyspark.sql import types as t \n",
        "#Biblioteca datetime\n",
        "from datetime import datetime, date\n",
        " \n",
        "spark = SparkSession.builder.master(\"local\").appName(\"window\").getOrCreate()\n",
        " "
      ]
    },
    {
      "cell_type": "code",
      "execution_count": null,
      "metadata": {
        "colab": {
          "base_uri": "https://localhost:8080/"
        },
        "id": "QY0CAoQuY9d5",
        "outputId": "09e782bb-31af-4f23-8f54-46ff55737f24"
      },
      "outputs": [
        {
          "output_type": "stream",
          "name": "stdout",
          "text": [
            "+-------------+--------+----------+--------+---+--------+-----+\n",
            "|delivery_code|order_id|sale_date |status  |sku|produto |valor|\n",
            "+-------------+--------+----------+--------+---+--------+-----+\n",
            "|1_A          |1       |2022-01-01|entregue|x  |tenis   |100  |\n",
            "|1_A          |1       |2022-01-01|entregue|x1 |chuteira|20   |\n",
            "|1_B          |1       |2022-01-01|pendente|z  |camisa  |300  |\n",
            "|1_B          |1       |2022-01-01|pendente|z1 |calça   |100  |\n",
            "|2_B          |2       |2022-01-02|pendente|r  |skate   |50   |\n",
            "|2_B          |2       |2022-01-02|pendente|r1 |sapato  |1000 |\n",
            "|2_A          |2       |2022-01-02|entregue|y  |luva    |300  |\n",
            "|2_A          |2       |2022-01-02|entregue|y1 |bermuda |200  |\n",
            "+-------------+--------+----------+--------+---+--------+-----+\n",
            "\n"
          ]
        }
      ],
      "source": [
        "#Order, pedido do cliente\n",
        "pedido = [Row(order_id=1,sale_date='2022-01-01'),\n",
        "      Row(order_id=2,sale_date='2022-01-02')]\n",
        "df_pedido = spark.createDataFrame(pedido)\n",
        "\n",
        "#Entrega, dentro de um pedido, temos diversas entregas\n",
        "entrega= [Row(order_id=1,delivery_code= '1_A',status='entregue'),Row(order_id=1,delivery_code= '1_B',status='pendente'),\n",
        "             Row(order_id=2,delivery_code= '2_A',status='entregue'),Row(order_id=2,delivery_code= '2_B',status='pendente')]\n",
        "df_entrega = spark.createDataFrame(entrega)\n",
        "\n",
        "#Produtos, dentro de uma entrega, temos diversos produtos\n",
        "produto=[Row(sku='x',produto='tenis',delivery_code='1_A',valor=100,),\n",
        "            Row(sku='x1',produto='chuteira',delivery_code='1_A',valor=20),\n",
        "            Row(sku='z',produto='camisa',delivery_code='1_B',valor=300),\n",
        "            Row(sku='z1',produto='calça',delivery_code='1_B',valor=100),\n",
        "            Row(sku='y',produto='luva',delivery_code='2_A',valor=300),\n",
        "            Row(sku='y1',produto='bermuda',delivery_code='2_A',valor=200),\n",
        "            Row(sku='r',produto='skate',delivery_code='2_B',valor=50),\n",
        "            Row(sku='r1',produto='sapato',delivery_code='2_B',valor=1000)]\n",
        "            \n",
        "df_produto = spark.createDataFrame(produto)            \n",
        "\n",
        "df_pedido_entrega_r = df_pedido.join(df_entrega,['order_id'])\n",
        "\n",
        "df_f = df_pedido_entrega_r.join(df_produto,['delivery_code'])\n",
        "df_f.show(truncate=False)\n",
        "\n",
        "#order id = id do pedido\n",
        "#delivery code"
      ]
    },
    {
      "cell_type": "code",
      "source": [
        "df_3 = df_f.select(sf.sum(\"valor\").alias(\"valor\"),\n",
        "                                    sf.count(\"*\").alias(\"quantidade\"),\n",
        "                                    sf.max(\"sale_date\").alias(\"ultima_data\"),\n",
        "                                    sf.min(\"valor\").alias(\"valor_minimo\"),sf.collect_list(\"delivery_code\"))\n",
        "df_3.show(truncate=False)"
      ],
      "metadata": {
        "colab": {
          "base_uri": "https://localhost:8080/"
        },
        "id": "n2K883AiwrwD",
        "outputId": "3dbcaf77-d7d9-41c6-f6e5-d10580c858ed"
      },
      "execution_count": null,
      "outputs": [
        {
          "output_type": "stream",
          "name": "stdout",
          "text": [
            "+-----+----------+-----------+------------+----------------------------------------+\n",
            "|valor|quantidade|ultima_data|valor_minimo|collect_list(delivery_code)             |\n",
            "+-----+----------+-----------+------------+----------------------------------------+\n",
            "|2070 |8         |2022-01-02 |20          |[1_A, 1_A, 1_B, 1_B, 2_B, 2_B, 2_A, 2_A]|\n",
            "+-----+----------+-----------+------------+----------------------------------------+\n",
            "\n"
          ]
        }
      ]
    },
    {
      "cell_type": "code",
      "execution_count": null,
      "metadata": {
        "colab": {
          "base_uri": "https://localhost:8080/"
        },
        "id": "dR5LrwsWZinq",
        "outputId": "381025ba-0d11-4ab3-eb9a-55db6af6da79"
      },
      "outputs": [
        {
          "output_type": "stream",
          "name": "stdout",
          "text": [
            "+--------+----------+-----+----------+-----------+------------+---------------------------+\n",
            "|order_id| sale_date|valor|quantidade|ultima_data|valor_minimo|collect_list(delivery_code)|\n",
            "+--------+----------+-----+----------+-----------+------------+---------------------------+\n",
            "|       1|2022-01-01|  520|         4| 2022-01-01|          20|       [1_A, 1_A, 1_B, 1_B]|\n",
            "|       2|2022-01-02| 1550|         4| 2022-01-02|          50|       [2_B, 2_B, 2_A, 2_A]|\n",
            "+--------+----------+-----+----------+-----------+------------+---------------------------+\n",
            "\n"
          ]
        }
      ],
      "source": [
        "df_2 = df_f.groupBy(\"order_id\",\"sale_date\").agg(sf.sum(\"valor\").alias(\"valor\"),\n",
        "                                    sf.count(\"*\").alias(\"quantidade\"),\n",
        "                                    sf.max(\"sale_date\").alias(\"ultima_data\"),\n",
        "                                    sf.min(\"valor\").alias(\"valor_minimo\"),sf.collect_list(\"delivery_code\"))\n",
        "df_2.show()"
      ]
    },
    {
      "cell_type": "code",
      "source": [],
      "metadata": {
        "id": "5hvbq_a62cWV"
      },
      "execution_count": null,
      "outputs": []
    },
    {
      "cell_type": "code",
      "source": [
        "df_g = df_f.groupBy(\"delivery_code\").agg(sf.sum(\"valor\").alias(\"valor_agregado\"))\n",
        "df_g2 = df_f.groupBy(\"order_id\").agg(sf.sum(\"valor\").alias(\"valor_total\"))\n",
        "\n",
        "df_f2 = df_f.join(df_g,['delivery_code'])\n",
        "df_f2 = df_f2.join(df_g2,['order_id'])\n",
        "\n",
        "df_f2 = df_f2.withColumn(\"percentual_delivery\",((sf.col(\"valor\")/sf.col(\"valor_agregado\"))*100).cast(\"decimal(10,4)\")) #valor agregado não existe\n",
        "df_f2 = df_f2.withColumn(\"percentual_total\",((sf.col(\"valor\")/sf.col(\"valor_total\"))*100).cast(\"decimal(10,4)\"))\n",
        "df_f2.show()"
      ],
      "metadata": {
        "colab": {
          "base_uri": "https://localhost:8080/"
        },
        "id": "JW6DE-U5yKyy",
        "outputId": "7086c412-4415-48a6-b533-4ecce456d6c2"
      },
      "execution_count": null,
      "outputs": [
        {
          "output_type": "stream",
          "name": "stdout",
          "text": [
            "+--------+-------------+----------+--------+---+--------+-----+--------------+-----------+-------------------+----------------+\n",
            "|order_id|delivery_code| sale_date|  status|sku| produto|valor|valor_agregado|valor_total|percentual_delivery|percentual_total|\n",
            "+--------+-------------+----------+--------+---+--------+-----+--------------+-----------+-------------------+----------------+\n",
            "|       1|          1_A|2022-01-01|entregue|  x|   tenis|  100|           120|        520|            83.3333|         19.2308|\n",
            "|       1|          1_A|2022-01-01|entregue| x1|chuteira|   20|           120|        520|            16.6667|          3.8462|\n",
            "|       1|          1_B|2022-01-01|pendente|  z|  camisa|  300|           400|        520|            75.0000|         57.6923|\n",
            "|       1|          1_B|2022-01-01|pendente| z1|   calça|  100|           400|        520|            25.0000|         19.2308|\n",
            "|       2|          2_A|2022-01-02|entregue|  y|    luva|  300|           500|       1550|            60.0000|         19.3548|\n",
            "|       2|          2_A|2022-01-02|entregue| y1| bermuda|  200|           500|       1550|            40.0000|         12.9032|\n",
            "|       2|          2_B|2022-01-02|pendente|  r|   skate|   50|          1050|       1550|             4.7619|          3.2258|\n",
            "|       2|          2_B|2022-01-02|pendente| r1|  sapato| 1000|          1050|       1550|            95.2381|         64.5161|\n",
            "+--------+-------------+----------+--------+---+--------+-----+--------------+-----------+-------------------+----------------+\n",
            "\n"
          ]
        }
      ]
    },
    {
      "cell_type": "code",
      "source": [
        "janela1=  Window.partitionBy(\"delivery_code\")\n",
        "df_f2 = df_f.withColumn(\"valor_agregado\",sf.sum(\"valor\").over(janela1))\n",
        "\n",
        "df_f2 = df_f2.withColumn(\"percentual_delivery\",((sf.col(\"valor\")/sf.col(\"valor_agregado\"))*100).cast(\"decimal(10,4)\"))\n",
        "df_f2.orderBy(\"order_id\",\"produto\").show()"
      ],
      "metadata": {
        "colab": {
          "base_uri": "https://localhost:8080/"
        },
        "id": "BplaKCF92ChQ",
        "outputId": "e42cb774-e149-43ba-eaab-32b667b6da13"
      },
      "execution_count": null,
      "outputs": [
        {
          "output_type": "stream",
          "name": "stdout",
          "text": [
            "+-------------+--------+----------+--------+---+--------+-----+--------------+----------------------+-------------------+\n",
            "|delivery_code|order_id| sale_date|  status|sku| produto|valor|valor_agregado|valor_agregado_corrido|percentual_delivery|\n",
            "+-------------+--------+----------+--------+---+--------+-----+--------------+----------------------+-------------------+\n",
            "|          1_B|       1|2022-01-01|pendente| z1|   calça|  100|           400|                   100|            25.0000|\n",
            "|          1_B|       1|2022-01-01|pendente|  z|  camisa|  300|           400|                   300|            75.0000|\n",
            "|          1_A|       1|2022-01-01|entregue| x1|chuteira|   20|           120|                    20|            16.6667|\n",
            "|          1_A|       1|2022-01-01|entregue|  x|   tenis|  100|           120|                   100|            83.3333|\n",
            "|          2_A|       2|2022-01-02|entregue| y1| bermuda|  200|           500|                   200|            40.0000|\n",
            "|          2_A|       2|2022-01-02|entregue|  y|    luva|  300|           500|                   300|            60.0000|\n",
            "|          2_B|       2|2022-01-02|pendente| r1|  sapato| 1000|          1050|                  1000|            95.2381|\n",
            "|          2_B|       2|2022-01-02|pendente|  r|   skate|   50|          1050|                    50|             4.7619|\n",
            "+-------------+--------+----------+--------+---+--------+-----+--------------+----------------------+-------------------+\n",
            "\n"
          ]
        }
      ]
    },
    {
      "cell_type": "code",
      "source": [
        "janela2=  Window.orderBy(\"order_id\",\"delivery_code\",\"produto\")\n",
        "df_f2 = df_f.withColumn(\"valor_corrido\",sf.sum(\"valor\").over(janela2))\n",
        "df_f2.show()"
      ],
      "metadata": {
        "colab": {
          "base_uri": "https://localhost:8080/"
        },
        "id": "VU4NrAcw3j8C",
        "outputId": "3b445461-8b22-41e4-9282-9f209d5db4c4"
      },
      "execution_count": null,
      "outputs": [
        {
          "output_type": "stream",
          "name": "stdout",
          "text": [
            "+-------------+--------+----------+--------+---+--------+-----+-------------+\n",
            "|delivery_code|order_id| sale_date|  status|sku| produto|valor|valor_corrido|\n",
            "+-------------+--------+----------+--------+---+--------+-----+-------------+\n",
            "|          1_A|       1|2022-01-01|entregue| x1|chuteira|   20|           20|\n",
            "|          1_A|       1|2022-01-01|entregue|  x|   tenis|  100|          120|\n",
            "|          1_B|       1|2022-01-01|pendente| z1|   calça|  100|          220|\n",
            "|          1_B|       1|2022-01-01|pendente|  z|  camisa|  300|          520|\n",
            "|          2_A|       2|2022-01-02|entregue| y1| bermuda|  200|          720|\n",
            "|          2_A|       2|2022-01-02|entregue|  y|    luva|  300|         1020|\n",
            "|          2_B|       2|2022-01-02|pendente| r1|  sapato| 1000|         2020|\n",
            "|          2_B|       2|2022-01-02|pendente|  r|   skate|   50|         2070|\n",
            "+-------------+--------+----------+--------+---+--------+-----+-------------+\n",
            "\n"
          ]
        }
      ]
    },
    {
      "cell_type": "code",
      "execution_count": null,
      "metadata": {
        "colab": {
          "base_uri": "https://localhost:8080/"
        },
        "id": "u1nuULB0ZJSS",
        "outputId": "f62284b4-5901-4359-f837-0b76cab5cd04"
      },
      "outputs": [
        {
          "output_type": "stream",
          "name": "stdout",
          "text": [
            "+-------------+--------+----------+--------+---+--------+-----+----------+--------------------+\n",
            "|delivery_code|order_id|sale_date |status  |sku|produto |valor|soma_total|soma_total_acumulada|\n",
            "+-------------+--------+----------+--------+---+--------+-----+----------+--------------------+\n",
            "|1_A          |1       |2022-01-01|entregue|x1 |chuteira|20   |520       |20                  |\n",
            "|1_A          |1       |2022-01-01|entregue|x  |tenis   |100  |520       |120                 |\n",
            "|1_B          |1       |2022-01-01|pendente|z1 |calça   |100  |520       |220                 |\n",
            "|1_B          |1       |2022-01-01|pendente|z  |camisa  |300  |520       |520                 |\n",
            "|2_A          |2       |2022-01-02|entregue|y1 |bermuda |200  |1550      |200                 |\n",
            "|2_A          |2       |2022-01-02|entregue|y  |luva    |300  |1550      |500                 |\n",
            "|2_B          |2       |2022-01-02|pendente|r1 |sapato  |1000 |1550      |1500                |\n",
            "|2_B          |2       |2022-01-02|pendente|r  |skate   |50   |1550      |1550                |\n",
            "+-------------+--------+----------+--------+---+--------+-----+----------+--------------------+\n",
            "\n"
          ]
        }
      ],
      "source": [
        "#Utilizando window functions Agregada - eliminamos um group by e um join\n",
        "#utiliza a Classe Window - partition by delimitamos uma partição dos dados para criar agrupamentos\n",
        "from pyspark.sql import Window\n",
        "janela1=  Window.partitionBy(\"order_id\")\n",
        "janela3= Window.partitionBy(\"order_id\").orderBy(\"order_id\",\"delivery_code\")\n",
        "df_f2 = df_f.withColumn(\"soma_total\",sf.sum(\"valor\").over(janela1))\n",
        "\n",
        "#utiliza a Classe Window - order by cria uma soma cumulátiva\n",
        "janela2= Window.partitionBy(\"order_id\").orderBy(\"order_id\",\"delivery_code\",\"produto\")\n",
        "\n",
        "df_f2 = df_f2.withColumn(\"soma_total_acumulada\",sf.sum(\"valor\").over(janela2))\n",
        "df_f2.orderBy(\"order_id\",\"delivery_code\").show(truncate=False)"
      ]
    },
    {
      "cell_type": "code",
      "source": [
        "#Utilizando window functions Analitica\n",
        "janela2= Window.orderBy(\"order_id\",\"delivery_code\")\n",
        "\n",
        "janela3= Window.partitionBy(\"order_id\").orderBy(\"order_id\",\"delivery_code\")\n",
        "\n",
        "df_f2 = df_f.withColumn(\"lag_column\",sf.lag(\"valor\",1).over(janela2))\n",
        "df_f2 = df_f2.withColumn(\"lead_column\",sf.lead(\"valor\",1).over(janela2))\n",
        "\n",
        "\n",
        "df_f2 = df_f2.withColumn(\"lag_column_p\",sf.lag(\"valor\",1).over(janela3))\n",
        "\n",
        "\n",
        "df_f2.show(truncate=False)"
      ],
      "metadata": {
        "colab": {
          "base_uri": "https://localhost:8080/"
        },
        "id": "VlwyMuyeXtqX",
        "outputId": "e6e27bac-6cf6-468d-f1cd-b0fd85d5ebcb"
      },
      "execution_count": null,
      "outputs": [
        {
          "output_type": "stream",
          "name": "stdout",
          "text": [
            "+-------------+--------+----------+--------+---+--------+-----+----------+-----------+------------+\n",
            "|delivery_code|order_id|sale_date |status  |sku|produto |valor|lag_column|lead_column|lag_column_p|\n",
            "+-------------+--------+----------+--------+---+--------+-----+----------+-----------+------------+\n",
            "|1_A          |1       |2022-01-01|entregue|x  |tenis   |100  |null      |20         |null        |\n",
            "|1_A          |1       |2022-01-01|entregue|x1 |chuteira|20   |100       |300        |100         |\n",
            "|1_B          |1       |2022-01-01|pendente|z  |camisa  |300  |20        |100        |20          |\n",
            "|1_B          |1       |2022-01-01|pendente|z1 |calça   |100  |300       |300        |300         |\n",
            "|2_A          |2       |2022-01-02|entregue|y  |luva    |300  |100       |200        |null        |\n",
            "|2_A          |2       |2022-01-02|entregue|y1 |bermuda |200  |300       |50         |300         |\n",
            "|2_B          |2       |2022-01-02|pendente|r  |skate   |50   |200       |1000       |200         |\n",
            "|2_B          |2       |2022-01-02|pendente|r1 |sapato  |1000 |50        |null       |50          |\n",
            "+-------------+--------+----------+--------+---+--------+-----+----------+-----------+------------+\n",
            "\n"
          ]
        }
      ]
    },
    {
      "cell_type": "code",
      "execution_count": null,
      "metadata": {
        "colab": {
          "base_uri": "https://localhost:8080/"
        },
        "id": "yWNEvyaMZfzt",
        "outputId": "2958ad67-2410-4bcf-a39b-e19b87e03111"
      },
      "outputs": [
        {
          "output_type": "stream",
          "name": "stdout",
          "text": [
            "+-------------+--------+----------+--------+---+--------+-----+-----------+\n",
            "|delivery_code|order_id|sale_date |status  |sku|produto |valor|data_update|\n",
            "+-------------+--------+----------+--------+---+--------+-----+-----------+\n",
            "|1_A          |1       |2022-01-01|entregue|x  |tenis   |100  |2022-01-01 |\n",
            "|1_A          |1       |2022-01-01|entregue|x  |tenis   |100  |2022-01-02 |\n",
            "|1_A          |1       |2022-01-01|entregue|x  |tenis   |100  |2022-01-03 |\n",
            "|1_A          |1       |2022-01-01|entregue|x1 |chuteira|20   |2022-01-02 |\n",
            "|1_B          |1       |2022-01-01|pendente|z  |camisa  |300  |2022-01-02 |\n",
            "|1_B          |1       |2022-01-01|pendente|z1 |calça   |100  |2022-01-03 |\n",
            "|1_B          |1       |2022-01-01|pendente|z1 |calça   |100  |2022-01-04 |\n",
            "|1_B          |1       |2022-01-01|pendente|z1 |calça   |100  |2022-01-05 |\n",
            "|1_B          |1       |2022-01-01|pendente|z1 |calça   |100  |2022-01-06 |\n",
            "|1_B          |1       |2022-01-01|pendente|z1 |calça   |100  |2022-01-07 |\n",
            "|2_B          |2       |2022-01-02|pendente|r  |skate   |50   |2022-01-02 |\n",
            "|2_B          |2       |2022-01-02|pendente|r1 |sapato  |1000 |2022-01-02 |\n",
            "|2_B          |2       |2022-01-02|pendente|r1 |sapato  |1000 |2022-01-03 |\n",
            "|2_A          |2       |2022-01-02|entregue|y  |luva    |300  |2022-01-02 |\n",
            "|2_A          |2       |2022-01-02|entregue|y1 |bermuda |200  |2022-01-02 |\n",
            "+-------------+--------+----------+--------+---+--------+-----+-----------+\n",
            "\n"
          ]
        }
      ],
      "source": [
        "#Criando linhas repetidas de produtos\n",
        "produto=[Row(sku='x',produto='tenis',delivery_code='1_A',valor=100,data_update='2022-01-01'),\n",
        "         Row(sku='x',produto='tenis',delivery_code='1_A',valor=100,data_update='2022-01-01'),\n",
        "         Row(sku='x',produto='tenis',delivery_code='1_A',valor=100,data_update='2022-01-01'),\n",
        "         Row(sku='x',produto='tenis',delivery_code='1_A',valor=100,data_update='2022-01-02'),\n",
        "         Row(sku='x',produto='tenis',delivery_code='1_A',valor=100,data_update='2022-01-03'),\n",
        "         Row(sku='x',produto='tenis',delivery_code='1_A',valor=100,data_update='2022-01-03'),\n",
        "            Row(sku='x1',produto='chuteira',delivery_code='1_A',valor=20,data_update='2022-01-02'),\n",
        "            Row(sku='z',produto='camisa',delivery_code='1_B',valor=300,data_update='2022-01-02'),\n",
        "            Row(sku='z1',produto='calça',delivery_code='1_B',valor=100,data_update='2022-01-03'),\n",
        "            Row(sku='z1',produto='calça',delivery_code='1_B',valor=100,data_update='2022-01-04'),\n",
        "            Row(sku='z1',produto='calça',delivery_code='1_B',valor=100,data_update='2022-01-05'),\n",
        "            Row(sku='z1',produto='calça',delivery_code='1_B',valor=100,data_update='2022-01-06'),\n",
        "            Row(sku='z1',produto='calça',delivery_code='1_B',valor=100,data_update='2022-01-07'),\n",
        "            Row(sku='y',produto='luva',delivery_code='2_A',valor=300,data_update='2022-01-02'),\n",
        "            Row(sku='y1',produto='bermuda',delivery_code='2_A',valor=200,data_update='2022-01-02'),\n",
        "            Row(sku='r',produto='skate',delivery_code='2_B',valor=50,data_update='2022-01-02'),\n",
        "            Row(sku='r1',produto='sapato',delivery_code='2_B',valor=1000,data_update='2022-01-02'),\n",
        "             Row(sku='r1',produto='sapato',delivery_code='2_B',valor=1000,data_update='2022-01-03')]\n",
        "            \n",
        "df_produto = spark.createDataFrame(produto)            \n",
        "\n",
        "df_pedido_entrega_r = df_pedido.join(df_entrega,['order_id'])\n",
        "\n",
        "df_f = df_pedido_entrega_r.join(df_produto,['delivery_code'])\n",
        "df_f.distinct().show(truncate=False)"
      ]
    },
    {
      "cell_type": "code",
      "source": [
        "janela2= Window.partitionBy(\"order_id\",\"delivery_code\",\"sku\").orderBy(sf.col(\"data_update\").desc())\n",
        "\n",
        "df_f2 = df_f.withColumn(\"row_number\",sf.row_number().over(janela2))\n",
        "df_f2 = df_f2.withColumn(\"rank\",sf.rank().over(janela2))\n",
        "df_f2 = df_f2.withColumn(\"dense_rank\",sf.dense_rank().over(janela2)) \n",
        "df_f2.show()"
      ],
      "metadata": {
        "colab": {
          "base_uri": "https://localhost:8080/"
        },
        "id": "cMifMmlK5MZ_",
        "outputId": "45f3e7a2-837c-4cb8-e694-f6c28bfc5cdc"
      },
      "execution_count": null,
      "outputs": [
        {
          "output_type": "stream",
          "name": "stdout",
          "text": [
            "+-------------+--------+----------+--------+---+--------+-----+-----------+----------+----+----------+\n",
            "|delivery_code|order_id| sale_date|  status|sku| produto|valor|data_update|row_number|rank|dense_rank|\n",
            "+-------------+--------+----------+--------+---+--------+-----+-----------+----------+----+----------+\n",
            "|          1_A|       1|2022-01-01|entregue|  x|   tenis|  100| 2022-01-03|         1|   1|         1|\n",
            "|          1_A|       1|2022-01-01|entregue|  x|   tenis|  100| 2022-01-03|         2|   1|         1|\n",
            "|          1_A|       1|2022-01-01|entregue|  x|   tenis|  100| 2022-01-02|         3|   3|         2|\n",
            "|          1_A|       1|2022-01-01|entregue|  x|   tenis|  100| 2022-01-01|         4|   4|         3|\n",
            "|          1_A|       1|2022-01-01|entregue|  x|   tenis|  100| 2022-01-01|         5|   4|         3|\n",
            "|          1_A|       1|2022-01-01|entregue|  x|   tenis|  100| 2022-01-01|         6|   4|         3|\n",
            "|          1_A|       1|2022-01-01|entregue| x1|chuteira|   20| 2022-01-02|         1|   1|         1|\n",
            "|          1_B|       1|2022-01-01|pendente|  z|  camisa|  300| 2022-01-02|         1|   1|         1|\n",
            "|          1_B|       1|2022-01-01|pendente| z1|   calça|  100| 2022-01-07|         1|   1|         1|\n",
            "|          1_B|       1|2022-01-01|pendente| z1|   calça|  100| 2022-01-06|         2|   2|         2|\n",
            "|          1_B|       1|2022-01-01|pendente| z1|   calça|  100| 2022-01-05|         3|   3|         3|\n",
            "|          1_B|       1|2022-01-01|pendente| z1|   calça|  100| 2022-01-04|         4|   4|         4|\n",
            "|          1_B|       1|2022-01-01|pendente| z1|   calça|  100| 2022-01-03|         5|   5|         5|\n",
            "|          2_A|       2|2022-01-02|entregue|  y|    luva|  300| 2022-01-02|         1|   1|         1|\n",
            "|          2_A|       2|2022-01-02|entregue| y1| bermuda|  200| 2022-01-02|         1|   1|         1|\n",
            "|          2_B|       2|2022-01-02|pendente|  r|   skate|   50| 2022-01-02|         1|   1|         1|\n",
            "|          2_B|       2|2022-01-02|pendente| r1|  sapato| 1000| 2022-01-03|         1|   1|         1|\n",
            "|          2_B|       2|2022-01-02|pendente| r1|  sapato| 1000| 2022-01-02|         2|   2|         2|\n",
            "+-------------+--------+----------+--------+---+--------+-----+-----------+----------+----+----------+\n",
            "\n"
          ]
        }
      ]
    },
    {
      "cell_type": "code",
      "execution_count": null,
      "metadata": {
        "colab": {
          "base_uri": "https://localhost:8080/"
        },
        "id": "vtRE_VaXbztm",
        "outputId": "cf3177ae-895a-4131-8a08-ffdca752cbb6"
      },
      "outputs": [
        {
          "output_type": "stream",
          "name": "stdout",
          "text": [
            "+-------------+--------+----------+--------+---+--------+-----+-----------+----------+\n",
            "|delivery_code|order_id|sale_date |status  |sku|produto |valor|data_update|row_number|\n",
            "+-------------+--------+----------+--------+---+--------+-----+-----------+----------+\n",
            "|1_A          |1       |2022-01-01|entregue|x  |tenis   |100  |2022-01-02 |1         |\n",
            "|1_A          |1       |2022-01-01|entregue|x  |tenis   |100  |2022-01-01 |2         |\n",
            "|1_A          |1       |2022-01-01|entregue|x1 |chuteira|20   |2022-01-02 |1         |\n",
            "|1_B          |1       |2022-01-01|pendente|z  |camisa  |300  |2022-01-02 |1         |\n",
            "|1_B          |1       |2022-01-01|pendente|z1 |calça   |100  |2022-01-07 |1         |\n",
            "|1_B          |1       |2022-01-01|pendente|z1 |calça   |100  |2022-01-06 |2         |\n",
            "|1_B          |1       |2022-01-01|pendente|z1 |calça   |100  |2022-01-05 |3         |\n",
            "|1_B          |1       |2022-01-01|pendente|z1 |calça   |100  |2022-01-04 |4         |\n",
            "|1_B          |1       |2022-01-01|pendente|z1 |calça   |100  |2022-01-03 |5         |\n",
            "|2_A          |2       |2022-01-02|entregue|y  |luva    |300  |2022-01-02 |1         |\n",
            "|2_A          |2       |2022-01-02|entregue|y1 |bermuda |200  |2022-01-02 |1         |\n",
            "|2_B          |2       |2022-01-02|pendente|r  |skate   |50   |2022-01-02 |1         |\n",
            "|2_B          |2       |2022-01-02|pendente|r1 |sapato  |1000 |2022-01-03 |1         |\n",
            "|2_B          |2       |2022-01-02|pendente|r1 |sapato  |1000 |2022-01-02 |2         |\n",
            "+-------------+--------+----------+--------+---+--------+-----+-----------+----------+\n",
            "\n",
            "+-------------+--------+----------+--------+---+--------+-----+-----------+----------+-------------------+-------------------------+-------------------------+\n",
            "|delivery_code|order_id|sale_date |status  |sku|produto |valor|data_update|row_number|rank_produtos_order|dense_rank_produtos_order|row_number_produtos_order|\n",
            "+-------------+--------+----------+--------+---+--------+-----+-----------+----------+-------------------+-------------------------+-------------------------+\n",
            "|1_B          |1       |2022-01-01|pendente|z  |camisa  |300  |2022-01-02 |1         |1                  |1                        |1                        |\n",
            "|1_A          |1       |2022-01-01|entregue|x  |tenis   |100  |2022-01-02 |1         |2                  |2                        |2                        |\n",
            "|1_B          |1       |2022-01-01|pendente|z1 |calça   |100  |2022-01-07 |1         |3                  |3                        |3                        |\n",
            "|1_A          |1       |2022-01-01|entregue|x1 |chuteira|20   |2022-01-02 |1         |4                  |4                        |4                        |\n",
            "|2_B          |2       |2022-01-02|pendente|r1 |sapato  |1000 |2022-01-03 |1         |1                  |1                        |1                        |\n",
            "|2_A          |2       |2022-01-02|entregue|y  |luva    |300  |2022-01-02 |1         |2                  |2                        |2                        |\n",
            "|2_A          |2       |2022-01-02|entregue|y1 |bermuda |200  |2022-01-02 |1         |3                  |3                        |3                        |\n",
            "|2_B          |2       |2022-01-02|pendente|r  |skate   |50   |2022-01-02 |1         |4                  |4                        |4                        |\n",
            "+-------------+--------+----------+--------+---+--------+-----+-----------+----------+-------------------+-------------------------+-------------------------+\n",
            "\n"
          ]
        }
      ],
      "source": [
        "#Janela do tipo Classificação, criamos rankings utilizando uma janela, útil para deduplicar, grandeza, etc\n",
        "\n",
        "#Deduplicar valores repetidos - ordenados por data update desc, ou seja, os ultimos serão rankeados como 1\n",
        "janela2= Window.partitionBy(\"order_id\",\"delivery_code\",\"sku\").orderBy(sf.col(\"data_update\").desc())\n",
        "\n",
        "df_f2 = df_f.withColumn(\"row_number\",sf.row_number().over(janela2))\n",
        "\n",
        "df_f2.orderBy(\"order_id\",\"delivery_code\",\"sku\",\"row_number\").show(truncate=False)\n",
        "#filtra as repetidas\n",
        "df_f2 = df_f2.filter(\"row_number = 1\")\n",
        "\n",
        "#Criar um ranking de produtos mais caros dentro de um pedido\n",
        "janela3= Window.partitionBy(\"order_id\").orderBy(sf.col(\"valor\").desc(),sf.col(\"sku\"))\n",
        "df_f2 = df_f2.withColumn(\"rank_produtos_order\",sf.rank().over(janela3))\n",
        "df_f2 = df_f2.withColumn(\"dense_rank_produtos_order\",sf.dense_rank().over(janela3))\n",
        "df_f2 = df_f2.withColumn(\"row_number_produtos_order\",sf.row_number().over(janela3))\n",
        "df_f2.orderBy(\"order_id\",\"rank_produtos_order\").show(truncate=False)"
      ]
    },
    {
      "cell_type": "code",
      "source": [],
      "metadata": {
        "id": "kSIoZfP6RDXv"
      },
      "execution_count": null,
      "outputs": []
    }
  ],
  "metadata": {
    "colab": {
      "provenance": []
    },
    "kernelspec": {
      "display_name": "Python 3",
      "name": "python3"
    },
    "language_info": {
      "name": "python"
    }
  },
  "nbformat": 4,
  "nbformat_minor": 0
}